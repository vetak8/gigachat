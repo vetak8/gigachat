{
 "cells": [
  {
   "cell_type": "markdown",
   "id": "de99ad25-f328-4c23-94a0-47abe6dc0346",
   "metadata": {},
   "source": [
    "# "
   ]
  },
  {
   "cell_type": "code",
   "execution_count": 1,
   "id": "f78c3410-2ac0-41b3-9b2a-b845c94477b9",
   "metadata": {},
   "outputs": [],
   "source": [
    "from gigachat import GigaChat\n",
    "from dotenv import load_dotenv, find_dotenv\n",
    "import os\n",
    "from dotenv import load_dotenv\n",
    "load_dotenv()\n",
    "API_KEY = os.getenv('GIGACHAT_API_KEY')"
   ]
  },
  {
   "cell_type": "code",
   "execution_count": 3,
   "id": "6aefd3b4-2456-4c67-8c28-97ee983a2abc",
   "metadata": {},
   "outputs": [],
   "source": [
    "from gc_script import main"
   ]
  },
  {
   "cell_type": "code",
   "execution_count": 4,
   "id": "679fff9d-9064-483a-ab94-3c9bccc0ebf2",
   "metadata": {},
   "outputs": [
    {
     "data": {
      "text/plain": [
       "<function gc_script.main()>"
      ]
     },
     "execution_count": 4,
     "metadata": {},
     "output_type": "execute_result"
    }
   ],
   "source": [
    "main"
   ]
  },
  {
   "cell_type": "code",
   "execution_count": 2,
   "id": "fce127b7-353d-4862-a073-bc29db10efe9",
   "metadata": {},
   "outputs": [],
   "source": [
    "# # Клчю авторизации\n",
    "# AUTH_KEY ='ODBiYzcyNWItN2UxOS00NThlLTkyNjctMDQyY2VjYmM2YjYzOjQzM2Q0ODg3LTA0NGUtNDYyYy05ZWY1LWUxZDRjNTRmNDhlNg=='\n",
    "\n",
    "# # Создание сессии с моделью\n",
    "# with GigaChat(credentials=AUTH_KEY, verify_ssl_certs=False) as giga:\n",
    "#     response = giga.chat('Придумай короткий слоган к имени Виталий'\n",
    "#                         )\n",
    "#     print(response.choices[0].message.content)"
   ]
  },
  {
   "cell_type": "code",
   "execution_count": null,
   "id": "1376e14a-e508-43ff-a222-10d316cd8cdc",
   "metadata": {},
   "outputs": [
    {
     "name": "stdout",
     "output_type": "stream",
     "text": [
      "GigaChat have been connected\n",
      "To exit type 'exit' or 'выход'.\n"
     ]
    },
    {
     "name": "stdin",
     "output_type": "stream",
     "text": [
      "Ask your question: полезно ли работать стоя\n"
     ]
    },
    {
     "name": "stdout",
     "output_type": "stream",
     "text": [
      "\n",
      "GigaChat: Работа стоя — достаточно популярная тема в последние годы, особенно среди сторонников концепции **стоячего рабочего места** (standing desk). Рассмотрим основные плюсы и минусы такой работы:\n",
      "\n",
      "### Плюсы работы стоя\n",
      "\n",
      "1. **Снижение риска заболеваний, связанных с сидячим образом жизни**\n",
      "   Сидение длительное время вызывает проблемы с позвоночником, мышцами спины, ногами, повышает риск сердечно-сосудистых заболеваний, диабета второго типа, ожирения и проблем с суставами. Работа стоя помогает снизить этот риск.\n",
      "   \n",
      "2. **Повышение уровня энергии и бодрости**\n",
      "   Стояние улучшает кровообращение, активизирует мышцы ног и ягодиц, повышая общий тонус организма.\n",
      "\n",
      "3. **Улучшение концентрации внимания и продуктивности**\n",
      "   Исследования показывают, что кратковременное пребывание стоя может повысить концентрацию и внимание, хотя эффект сохраняется лишь на короткий период.\n",
      "\n",
      "4. **Положительное влияние на осанку и мышечный тонус**\n",
      "   Постоянная смена положения тела тренирует различные группы мышц, улучшая общую физическую форму и поддерживая правильную осанку.\n",
      "\n",
      "5. **Возможность комбинирования**\n",
      "   Использование гибридных рабочих мест (частичное сидение, частичное стояние) позволяет чередовать статические нагрузки, снижая риски от длительного пребывания в одном положении.\n",
      "\n",
      "6. **Психологический фактор**\n",
      "   Некоторые сотрудники отмечают улучшение настроения, уменьшение усталости и повышение общего самочувствия после перехода на стоячее рабочее место.\n",
      "\n",
      "### Минусы работы стоя\n",
      "\n",
      "1. **Риск перенапряжения мышц ног и спины**\n",
      "   Длительная работа стоя может привести к боли в ногах, спине, коленях, пояснице, проблемам с венозной системой ног. Чтобы избежать этого, важно правильно подобрать высоту стола и стула, использовать эргономичные коврики и подставки для ног.\n",
      "\n",
      "2. **Проблема длительного стояния для людей с хроническими заболеваниями суставов и позвоночника**\n",
      "   Например, артроз коленных суставов, остеохондроз и другие заболевания требуют ограничения нагрузок на ноги и спину.\n",
      "\n",
      "3. **Недостаточная адаптация организма**\n",
      "   Некоторым людям трудно привыкнуть к такому режиму работы сразу: переход от привычного сидения требует адаптации, иногда болезненной.\n",
      "\n",
      "4. **Ограниченные возможности в работе с клавиатурой и мышью**\n",
      "   Из-за неудобства расположения рук приходится делать неудобные движения кистями, что также может приводить к болям и усталости.\n",
      "\n",
      "5. **Необходимость наличия дополнительного оборудования**\n",
      "   Для организации полноценного стоячего рабочего места нужны специальные столы и стулья-подставки, что увеличивает расходы.\n",
      "\n",
      "### Как сделать работу стоя полезной?\n",
      "\n",
      "- Используйте комбинацию сидя/стоя, меняйте положение каждые 30–60 минут.\n",
      "- Правильно выбирайте высоту стола и стула-подставки.\n",
      "- Занимайтесь разминкой, упражнениями для стоп и икроножных мышц во время перерывов.\n",
      "- Обращайте внимание на комфорт своего состояния и корректируйте нагрузку при первых признаках дискомфорта.\n",
      "\n",
      "Таким образом, работа стоя полезна и эффективна, однако важно учитывать индивидуальные особенности здоровья и соблюдать баланс между сидением и стоянием.\n",
      "\n"
     ]
    }
   ],
   "source": [
    "try:\n",
    "    with GigaChat(\n",
    "                credentials=API_KEY, \n",
    "                verify_ssl_certs=False\n",
    "                 ) as giga:\n",
    "        print('GigaChat have been connected')\n",
    "        print(\"To exit type 'exit' or 'выход'.\")\n",
    "        while True:\n",
    "            user_input = input('Ask your question:').strip()\n",
    "            \n",
    "            # Проверка на команду выхода\n",
    "            if user_input.lower() in ['exit', 'выход']:\n",
    "                print('End of work')\n",
    "                break\n",
    "                \n",
    "            # Проверка, что ввод не пустой    \n",
    "            if not user_input:\n",
    "                print('Ask your question, please')\n",
    "                continue\n",
    "                \n",
    "            # Отправка запроса к API\n",
    "            try:\n",
    "                responce = giga.chat(user_input)\n",
    "                answer = responce.choices[0].message.content\n",
    "                # Вывод ответа модели\n",
    "                print(f\"\\nGigaChat: {answer}\\n\")\n",
    "\n",
    "            except Exception as e:\n",
    "                print(f'Error using API: {e}\\n')\n",
    "except Exception as e:\n",
    "    print(f'Client init error: {e}\\n')\n",
    "    \n",
    "            "
   ]
  },
  {
   "cell_type": "code",
   "execution_count": null,
   "id": "68b0a10c-c3f0-403b-bd4b-c201a26bb581",
   "metadata": {},
   "outputs": [],
   "source": []
  }
 ],
 "metadata": {
  "kernelspec": {
   "display_name": "Python (DS)",
   "language": "python",
   "name": "ds_env"
  },
  "language_info": {
   "codemirror_mode": {
    "name": "ipython",
    "version": 3
   },
   "file_extension": ".py",
   "mimetype": "text/x-python",
   "name": "python",
   "nbconvert_exporter": "python",
   "pygments_lexer": "ipython3",
   "version": "3.12.3"
  }
 },
 "nbformat": 4,
 "nbformat_minor": 5
}
