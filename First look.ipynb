{
 "cells": [
  {
   "cell_type": "code",
   "execution_count": 4,
   "id": "f78c3410-2ac0-41b3-9b2a-b845c94477b9",
   "metadata": {},
   "outputs": [],
   "source": [
    "from gigachat import GigaChat"
   ]
  },
  {
   "cell_type": "code",
   "execution_count": 13,
   "id": "fce127b7-353d-4862-a073-bc29db10efe9",
   "metadata": {},
   "outputs": [
    {
     "name": "stdout",
     "output_type": "stream",
     "text": [
      "«Виталий — сила жизни в каждом движении!»\n"
     ]
    }
   ],
   "source": [
    "# Клчю авторизации\n",
    "AUTH_KEY ='ODBiYzcyNWItN2UxOS00NThlLTkyNjctMDQyY2VjYmM2YjYzOjQzM2Q0ODg3LTA0NGUtNDYyYy05ZWY1LWUxZDRjNTRmNDhlNg=='\n",
    "\n",
    "# Создание сессии с моделью\n",
    "with GigaChat(credentials=AUTH_KEY, verify_ssl_certs=False) as giga:\n",
    "    response = giga.chat('Придумай короткий слоган к имени Виталий'\n",
    "                        )\n",
    "    print(response.choices[0].message.content)"
   ]
  },
  {
   "cell_type": "markdown",
   "id": "6f13190f-2d3b-4442-8ab5-a17602708621",
   "metadata": {},
   "source": []
  }
 ],
 "metadata": {
  "kernelspec": {
   "display_name": "Python (DS)",
   "language": "python",
   "name": "ds_env"
  },
  "language_info": {
   "codemirror_mode": {
    "name": "ipython",
    "version": 3
   },
   "file_extension": ".py",
   "mimetype": "text/x-python",
   "name": "python",
   "nbconvert_exporter": "python",
   "pygments_lexer": "ipython3",
   "version": "3.12.3"
  }
 },
 "nbformat": 4,
 "nbformat_minor": 5
}
